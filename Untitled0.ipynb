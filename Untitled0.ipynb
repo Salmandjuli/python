{
  "nbformat": 4,
  "nbformat_minor": 0,
  "metadata": {
    "colab": {
      "name": "Untitled0.ipynb",
      "provenance": [],
      "authorship_tag": "ABX9TyOzPn3GPaQWfu5g+Xt37ro1",
      "include_colab_link": true
    },
    "kernelspec": {
      "name": "python3",
      "display_name": "Python 3"
    },
    "language_info": {
      "name": "python"
    }
  },
  "cells": [
    {
      "cell_type": "markdown",
      "metadata": {
        "id": "view-in-github",
        "colab_type": "text"
      },
      "source": [
        "<a href=\"https://colab.research.google.com/github/Salmandjuli/python/blob/main/Untitled0.ipynb\" target=\"_parent\"><img src=\"https://colab.research.google.com/assets/colab-badge.svg\" alt=\"Open In Colab\"/></a>"
      ]
    },
    {
      "cell_type": "code",
      "execution_count": 2,
      "metadata": {
        "colab": {
          "base_uri": "https://localhost:8080/"
        },
        "id": "Xye-QMPfGqFg",
        "outputId": "ab7376f9-edfb-4a18-92dc-cd0e8815c59f"
      },
      "outputs": [
        {
          "output_type": "stream",
          "name": "stdout",
          "text": [
            "Hai, apa kabar?\n",
            "Masukkan angka pertama: 12\n",
            "Masukkan angka kedua : 14\n",
            "angka pertama adalah : 12\n",
            "angka kedua adalah : 14\n",
            "penjumlahan 12 dan 14 adalah : 26\n"
          ]
        }
      ],
      "source": [
        "print(\"Hai, apa kabar?\")\n",
        "a = int(input(\"Masukkan angka pertama: \"))\n",
        "b = int(input(\"Masukkan angka kedua : \"))\n",
        "print(\"angka pertama adalah :\",a)\n",
        "print(\"angka kedua adalah :\",b)\n",
        "penjumlahan = a + b\n",
        "print(f\"penjumlahan {a} dan {b} adalah : {penjumlahan}\")"
      ]
    }
  ]
}